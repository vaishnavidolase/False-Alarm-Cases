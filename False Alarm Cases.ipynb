{
 "cells": [
  {
   "cell_type": "code",
   "execution_count": 1,
   "id": "86c4f63d",
   "metadata": {},
   "outputs": [],
   "source": [
    "import pandas as pd"
   ]
  },
  {
   "cell_type": "code",
   "execution_count": 2,
   "id": "10a91fb5",
   "metadata": {},
   "outputs": [],
   "source": [
    "df = pd.read_excel(\"False Alarm Cases.xlsx\")"
   ]
  },
  {
   "cell_type": "code",
   "execution_count": 3,
   "id": "cf669eb6",
   "metadata": {},
   "outputs": [
    {
     "name": "stdout",
     "output_type": "stream",
     "text": [
      "<class 'pandas.core.frame.DataFrame'>\n",
      "RangeIndex: 1892 entries, 0 to 1891\n",
      "Data columns (total 11 columns):\n",
      " #   Column                              Non-Null Count  Dtype  \n",
      "---  ------                              --------------  -----  \n",
      " 0   Case No.                            1892 non-null   object \n",
      " 1   Ambient Temperature( deg C)         1892 non-null   int64  \n",
      " 2   Calibration(days)                   1892 non-null   int64  \n",
      " 3   Unwanted substance deposition(0/1)  1892 non-null   int64  \n",
      " 4   Humidity(%)                         1892 non-null   int64  \n",
      " 5   H2S Content(ppm)                    1892 non-null   int64  \n",
      " 6   detected by(% of sensors)           1892 non-null   int64  \n",
      " 7   Spuriosity Index(0/1)               1892 non-null   int64  \n",
      " 8   Unnamed: 8                          0 non-null      float64\n",
      " 9   Unnamed: 9                          0 non-null      float64\n",
      " 10  Unnamed: 10                         1 non-null      float64\n",
      "dtypes: float64(3), int64(7), object(1)\n",
      "memory usage: 162.7+ KB\n"
     ]
    }
   ],
   "source": [
    "df.info()"
   ]
  },
  {
   "cell_type": "code",
   "execution_count": 7,
   "id": "ef9f11b1",
   "metadata": {
    "scrolled": true
   },
   "outputs": [],
   "source": [
    "df.drop(['Case No.','Unnamed: 8','Unnamed: 9','Unnamed: 10'], axis=1, inplace=True)"
   ]
  },
  {
   "cell_type": "code",
   "execution_count": 8,
   "id": "88703847",
   "metadata": {},
   "outputs": [
    {
     "data": {
      "text/html": [
       "<div>\n",
       "<style scoped>\n",
       "    .dataframe tbody tr th:only-of-type {\n",
       "        vertical-align: middle;\n",
       "    }\n",
       "\n",
       "    .dataframe tbody tr th {\n",
       "        vertical-align: top;\n",
       "    }\n",
       "\n",
       "    .dataframe thead th {\n",
       "        text-align: right;\n",
       "    }\n",
       "</style>\n",
       "<table border=\"1\" class=\"dataframe\">\n",
       "  <thead>\n",
       "    <tr style=\"text-align: right;\">\n",
       "      <th></th>\n",
       "      <th>Ambient Temperature( deg C)</th>\n",
       "      <th>Calibration(days)</th>\n",
       "      <th>Unwanted substance deposition(0/1)</th>\n",
       "      <th>Humidity(%)</th>\n",
       "      <th>H2S Content(ppm)</th>\n",
       "      <th>detected by(% of sensors)</th>\n",
       "      <th>Spuriosity Index(0/1)</th>\n",
       "    </tr>\n",
       "  </thead>\n",
       "  <tbody>\n",
       "    <tr>\n",
       "      <th>0</th>\n",
       "      <td>-2</td>\n",
       "      <td>226</td>\n",
       "      <td>1</td>\n",
       "      <td>96</td>\n",
       "      <td>9</td>\n",
       "      <td>21</td>\n",
       "      <td>1</td>\n",
       "    </tr>\n",
       "    <tr>\n",
       "      <th>1</th>\n",
       "      <td>4</td>\n",
       "      <td>134</td>\n",
       "      <td>1</td>\n",
       "      <td>83</td>\n",
       "      <td>4</td>\n",
       "      <td>77</td>\n",
       "      <td>0</td>\n",
       "    </tr>\n",
       "    <tr>\n",
       "      <th>2</th>\n",
       "      <td>7</td>\n",
       "      <td>163</td>\n",
       "      <td>0</td>\n",
       "      <td>69</td>\n",
       "      <td>2</td>\n",
       "      <td>81</td>\n",
       "      <td>0</td>\n",
       "    </tr>\n",
       "    <tr>\n",
       "      <th>3</th>\n",
       "      <td>5</td>\n",
       "      <td>162</td>\n",
       "      <td>0</td>\n",
       "      <td>80</td>\n",
       "      <td>6</td>\n",
       "      <td>69</td>\n",
       "      <td>0</td>\n",
       "    </tr>\n",
       "    <tr>\n",
       "      <th>4</th>\n",
       "      <td>2</td>\n",
       "      <td>192</td>\n",
       "      <td>1</td>\n",
       "      <td>87</td>\n",
       "      <td>3</td>\n",
       "      <td>67</td>\n",
       "      <td>0</td>\n",
       "    </tr>\n",
       "  </tbody>\n",
       "</table>\n",
       "</div>"
      ],
      "text/plain": [
       "   Ambient Temperature( deg C)  Calibration(days)  \\\n",
       "0                           -2                226   \n",
       "1                            4                134   \n",
       "2                            7                163   \n",
       "3                            5                162   \n",
       "4                            2                192   \n",
       "\n",
       "   Unwanted substance deposition(0/1)  Humidity(%)  H2S Content(ppm)  \\\n",
       "0                                   1           96                 9   \n",
       "1                                   1           83                 4   \n",
       "2                                   0           69                 2   \n",
       "3                                   0           80                 6   \n",
       "4                                   1           87                 3   \n",
       "\n",
       "   detected by(% of sensors)  Spuriosity Index(0/1)  \n",
       "0                         21                      1  \n",
       "1                         77                      0  \n",
       "2                         81                      0  \n",
       "3                         69                      0  \n",
       "4                         67                      0  "
      ]
     },
     "execution_count": 8,
     "metadata": {},
     "output_type": "execute_result"
    }
   ],
   "source": [
    "df.head()"
   ]
  },
  {
   "cell_type": "code",
   "execution_count": 9,
   "id": "52c98014",
   "metadata": {},
   "outputs": [
    {
     "data": {
      "text/html": [
       "<div>\n",
       "<style scoped>\n",
       "    .dataframe tbody tr th:only-of-type {\n",
       "        vertical-align: middle;\n",
       "    }\n",
       "\n",
       "    .dataframe tbody tr th {\n",
       "        vertical-align: top;\n",
       "    }\n",
       "\n",
       "    .dataframe thead th {\n",
       "        text-align: right;\n",
       "    }\n",
       "</style>\n",
       "<table border=\"1\" class=\"dataframe\">\n",
       "  <thead>\n",
       "    <tr style=\"text-align: right;\">\n",
       "      <th></th>\n",
       "      <th>Ambient Temperature( deg C)</th>\n",
       "      <th>Calibration(days)</th>\n",
       "      <th>Unwanted substance deposition(0/1)</th>\n",
       "      <th>Humidity(%)</th>\n",
       "      <th>H2S Content(ppm)</th>\n",
       "      <th>detected by(% of sensors)</th>\n",
       "      <th>Spuriosity Index(0/1)</th>\n",
       "    </tr>\n",
       "  </thead>\n",
       "  <tbody>\n",
       "    <tr>\n",
       "      <th>Ambient Temperature( deg C)</th>\n",
       "      <td>1.000000</td>\n",
       "      <td>0.104659</td>\n",
       "      <td>-0.036992</td>\n",
       "      <td>-0.105782</td>\n",
       "      <td>0.053588</td>\n",
       "      <td>-0.049475</td>\n",
       "      <td>0.048690</td>\n",
       "    </tr>\n",
       "    <tr>\n",
       "      <th>Calibration(days)</th>\n",
       "      <td>0.104659</td>\n",
       "      <td>1.000000</td>\n",
       "      <td>-0.011956</td>\n",
       "      <td>0.061244</td>\n",
       "      <td>-0.021214</td>\n",
       "      <td>0.001081</td>\n",
       "      <td>-0.011579</td>\n",
       "    </tr>\n",
       "    <tr>\n",
       "      <th>Unwanted substance deposition(0/1)</th>\n",
       "      <td>-0.036992</td>\n",
       "      <td>-0.011956</td>\n",
       "      <td>1.000000</td>\n",
       "      <td>-0.010367</td>\n",
       "      <td>0.019841</td>\n",
       "      <td>-0.008420</td>\n",
       "      <td>-0.001640</td>\n",
       "    </tr>\n",
       "    <tr>\n",
       "      <th>Humidity(%)</th>\n",
       "      <td>-0.105782</td>\n",
       "      <td>0.061244</td>\n",
       "      <td>-0.010367</td>\n",
       "      <td>1.000000</td>\n",
       "      <td>0.018789</td>\n",
       "      <td>-0.001910</td>\n",
       "      <td>0.011318</td>\n",
       "    </tr>\n",
       "    <tr>\n",
       "      <th>H2S Content(ppm)</th>\n",
       "      <td>0.053588</td>\n",
       "      <td>-0.021214</td>\n",
       "      <td>0.019841</td>\n",
       "      <td>0.018789</td>\n",
       "      <td>1.000000</td>\n",
       "      <td>-0.009165</td>\n",
       "      <td>0.004233</td>\n",
       "    </tr>\n",
       "    <tr>\n",
       "      <th>detected by(% of sensors)</th>\n",
       "      <td>-0.049475</td>\n",
       "      <td>0.001081</td>\n",
       "      <td>-0.008420</td>\n",
       "      <td>-0.001910</td>\n",
       "      <td>-0.009165</td>\n",
       "      <td>1.000000</td>\n",
       "      <td>-0.849136</td>\n",
       "    </tr>\n",
       "    <tr>\n",
       "      <th>Spuriosity Index(0/1)</th>\n",
       "      <td>0.048690</td>\n",
       "      <td>-0.011579</td>\n",
       "      <td>-0.001640</td>\n",
       "      <td>0.011318</td>\n",
       "      <td>0.004233</td>\n",
       "      <td>-0.849136</td>\n",
       "      <td>1.000000</td>\n",
       "    </tr>\n",
       "  </tbody>\n",
       "</table>\n",
       "</div>"
      ],
      "text/plain": [
       "                                    Ambient Temperature( deg C)  \\\n",
       "Ambient Temperature( deg C)                            1.000000   \n",
       "Calibration(days)                                      0.104659   \n",
       "Unwanted substance deposition(0/1)                    -0.036992   \n",
       "Humidity(%)                                           -0.105782   \n",
       "H2S Content(ppm)                                       0.053588   \n",
       "detected by(% of sensors)                             -0.049475   \n",
       "Spuriosity Index(0/1)                                  0.048690   \n",
       "\n",
       "                                    Calibration(days)  \\\n",
       "Ambient Temperature( deg C)                  0.104659   \n",
       "Calibration(days)                            1.000000   \n",
       "Unwanted substance deposition(0/1)          -0.011956   \n",
       "Humidity(%)                                  0.061244   \n",
       "H2S Content(ppm)                            -0.021214   \n",
       "detected by(% of sensors)                    0.001081   \n",
       "Spuriosity Index(0/1)                       -0.011579   \n",
       "\n",
       "                                    Unwanted substance deposition(0/1)  \\\n",
       "Ambient Temperature( deg C)                                  -0.036992   \n",
       "Calibration(days)                                            -0.011956   \n",
       "Unwanted substance deposition(0/1)                            1.000000   \n",
       "Humidity(%)                                                  -0.010367   \n",
       "H2S Content(ppm)                                              0.019841   \n",
       "detected by(% of sensors)                                    -0.008420   \n",
       "Spuriosity Index(0/1)                                        -0.001640   \n",
       "\n",
       "                                    Humidity(%)  H2S Content(ppm)  \\\n",
       "Ambient Temperature( deg C)           -0.105782          0.053588   \n",
       "Calibration(days)                      0.061244         -0.021214   \n",
       "Unwanted substance deposition(0/1)    -0.010367          0.019841   \n",
       "Humidity(%)                            1.000000          0.018789   \n",
       "H2S Content(ppm)                       0.018789          1.000000   \n",
       "detected by(% of sensors)             -0.001910         -0.009165   \n",
       "Spuriosity Index(0/1)                  0.011318          0.004233   \n",
       "\n",
       "                                    detected by(% of sensors)  \\\n",
       "Ambient Temperature( deg C)                         -0.049475   \n",
       "Calibration(days)                                    0.001081   \n",
       "Unwanted substance deposition(0/1)                  -0.008420   \n",
       "Humidity(%)                                         -0.001910   \n",
       "H2S Content(ppm)                                    -0.009165   \n",
       "detected by(% of sensors)                            1.000000   \n",
       "Spuriosity Index(0/1)                               -0.849136   \n",
       "\n",
       "                                    Spuriosity Index(0/1)  \n",
       "Ambient Temperature( deg C)                      0.048690  \n",
       "Calibration(days)                               -0.011579  \n",
       "Unwanted substance deposition(0/1)              -0.001640  \n",
       "Humidity(%)                                      0.011318  \n",
       "H2S Content(ppm)                                 0.004233  \n",
       "detected by(% of sensors)                       -0.849136  \n",
       "Spuriosity Index(0/1)                            1.000000  "
      ]
     },
     "execution_count": 9,
     "metadata": {},
     "output_type": "execute_result"
    }
   ],
   "source": [
    "df.corr()"
   ]
  },
  {
   "cell_type": "code",
   "execution_count": 10,
   "id": "8bbe0555",
   "metadata": {},
   "outputs": [
    {
     "data": {
      "text/html": [
       "<div>\n",
       "<style scoped>\n",
       "    .dataframe tbody tr th:only-of-type {\n",
       "        vertical-align: middle;\n",
       "    }\n",
       "\n",
       "    .dataframe tbody tr th {\n",
       "        vertical-align: top;\n",
       "    }\n",
       "\n",
       "    .dataframe thead th {\n",
       "        text-align: right;\n",
       "    }\n",
       "</style>\n",
       "<table border=\"1\" class=\"dataframe\">\n",
       "  <thead>\n",
       "    <tr style=\"text-align: right;\">\n",
       "      <th></th>\n",
       "      <th>Ambient Temperature( deg C)</th>\n",
       "      <th>Calibration(days)</th>\n",
       "      <th>Unwanted substance deposition(0/1)</th>\n",
       "      <th>Humidity(%)</th>\n",
       "      <th>H2S Content(ppm)</th>\n",
       "      <th>detected by(% of sensors)</th>\n",
       "      <th>Spuriosity Index(0/1)</th>\n",
       "    </tr>\n",
       "  </thead>\n",
       "  <tbody>\n",
       "    <tr>\n",
       "      <th>0</th>\n",
       "      <td>-2</td>\n",
       "      <td>226</td>\n",
       "      <td>1</td>\n",
       "      <td>96</td>\n",
       "      <td>9</td>\n",
       "      <td>21</td>\n",
       "      <td>1</td>\n",
       "    </tr>\n",
       "    <tr>\n",
       "      <th>1</th>\n",
       "      <td>4</td>\n",
       "      <td>134</td>\n",
       "      <td>1</td>\n",
       "      <td>83</td>\n",
       "      <td>4</td>\n",
       "      <td>77</td>\n",
       "      <td>0</td>\n",
       "    </tr>\n",
       "    <tr>\n",
       "      <th>2</th>\n",
       "      <td>7</td>\n",
       "      <td>163</td>\n",
       "      <td>0</td>\n",
       "      <td>69</td>\n",
       "      <td>2</td>\n",
       "      <td>81</td>\n",
       "      <td>0</td>\n",
       "    </tr>\n",
       "    <tr>\n",
       "      <th>3</th>\n",
       "      <td>5</td>\n",
       "      <td>162</td>\n",
       "      <td>0</td>\n",
       "      <td>80</td>\n",
       "      <td>6</td>\n",
       "      <td>69</td>\n",
       "      <td>0</td>\n",
       "    </tr>\n",
       "    <tr>\n",
       "      <th>4</th>\n",
       "      <td>2</td>\n",
       "      <td>192</td>\n",
       "      <td>1</td>\n",
       "      <td>87</td>\n",
       "      <td>3</td>\n",
       "      <td>67</td>\n",
       "      <td>0</td>\n",
       "    </tr>\n",
       "  </tbody>\n",
       "</table>\n",
       "</div>"
      ],
      "text/plain": [
       "   Ambient Temperature( deg C)  Calibration(days)  \\\n",
       "0                           -2                226   \n",
       "1                            4                134   \n",
       "2                            7                163   \n",
       "3                            5                162   \n",
       "4                            2                192   \n",
       "\n",
       "   Unwanted substance deposition(0/1)  Humidity(%)  H2S Content(ppm)  \\\n",
       "0                                   1           96                 9   \n",
       "1                                   1           83                 4   \n",
       "2                                   0           69                 2   \n",
       "3                                   0           80                 6   \n",
       "4                                   1           87                 3   \n",
       "\n",
       "   detected by(% of sensors)  Spuriosity Index(0/1)  \n",
       "0                         21                      1  \n",
       "1                         77                      0  \n",
       "2                         81                      0  \n",
       "3                         69                      0  \n",
       "4                         67                      0  "
      ]
     },
     "execution_count": 10,
     "metadata": {},
     "output_type": "execute_result"
    }
   ],
   "source": [
    "df.head()"
   ]
  },
  {
   "cell_type": "code",
   "execution_count": 13,
   "id": "6a456855",
   "metadata": {},
   "outputs": [],
   "source": [
    "from sklearn.model_selection import train_test_split\n",
    "x_train , x_test , y_train ,y_test = train_test_split(df.drop('Spuriosity Index(0/1)',axis =1),\n",
    "                                                     df['Spuriosity Index(0/1)'],test_size=0.20)"
   ]
  },
  {
   "cell_type": "code",
   "execution_count": 15,
   "id": "94b7fb47",
   "metadata": {},
   "outputs": [
    {
     "data": {
      "text/plain": [
       "(1513, 6)"
      ]
     },
     "execution_count": 15,
     "metadata": {},
     "output_type": "execute_result"
    }
   ],
   "source": [
    "x_train.shape"
   ]
  },
  {
   "cell_type": "code",
   "execution_count": 16,
   "id": "72b815ee",
   "metadata": {},
   "outputs": [
    {
     "data": {
      "text/plain": [
       "(379, 6)"
      ]
     },
     "execution_count": 16,
     "metadata": {},
     "output_type": "execute_result"
    }
   ],
   "source": [
    " x_test.shape"
   ]
  },
  {
   "cell_type": "code",
   "execution_count": 17,
   "id": "261a5b14",
   "metadata": {},
   "outputs": [
    {
     "data": {
      "text/plain": [
       "(1513,)"
      ]
     },
     "execution_count": 17,
     "metadata": {},
     "output_type": "execute_result"
    }
   ],
   "source": [
    "y_train.shape"
   ]
  },
  {
   "cell_type": "code",
   "execution_count": 14,
   "id": "d99a6135",
   "metadata": {},
   "outputs": [],
   "source": [
    "from sklearn.linear_model import LogisticRegression"
   ]
  },
  {
   "cell_type": "code",
   "execution_count": 18,
   "id": "3daddb71",
   "metadata": {},
   "outputs": [],
   "source": [
    "logr = LogisticRegression()"
   ]
  },
  {
   "cell_type": "code",
   "execution_count": 21,
   "id": "27d5021a",
   "metadata": {},
   "outputs": [
    {
     "name": "stderr",
     "output_type": "stream",
     "text": [
      "C:\\Users\\Admin\\anaconda3\\lib\\site-packages\\sklearn\\linear_model\\_logistic.py:814: ConvergenceWarning: lbfgs failed to converge (status=1):\n",
      "STOP: TOTAL NO. of ITERATIONS REACHED LIMIT.\n",
      "\n",
      "Increase the number of iterations (max_iter) or scale the data as shown in:\n",
      "    https://scikit-learn.org/stable/modules/preprocessing.html\n",
      "Please also refer to the documentation for alternative solver options:\n",
      "    https://scikit-learn.org/stable/modules/linear_model.html#logistic-regression\n",
      "  n_iter_i = _check_optimize_result(\n"
     ]
    },
    {
     "data": {
      "text/plain": [
       "LogisticRegression()"
      ]
     },
     "execution_count": 21,
     "metadata": {},
     "output_type": "execute_result"
    }
   ],
   "source": [
    "logr.fit(x_train,y_train)"
   ]
  },
  {
   "cell_type": "code",
   "execution_count": 26,
   "id": "c3ce6608",
   "metadata": {},
   "outputs": [],
   "source": [
    "y_pred = logr.predict(x_test)"
   ]
  },
  {
   "cell_type": "code",
   "execution_count": 27,
   "id": "ab98825b",
   "metadata": {},
   "outputs": [
    {
     "data": {
      "text/plain": [
       "0.9947229551451188"
      ]
     },
     "execution_count": 27,
     "metadata": {},
     "output_type": "execute_result"
    }
   ],
   "source": [
    "from sklearn.metrics import accuracy_score\n",
    "accuracy_score(y_pred ,y_test)"
   ]
  },
  {
   "cell_type": "code",
   "execution_count": null,
   "id": "ee876b16",
   "metadata": {},
   "outputs": [],
   "source": []
  },
  {
   "cell_type": "code",
   "execution_count": null,
   "id": "b265abe3",
   "metadata": {},
   "outputs": [],
   "source": []
  }
 ],
 "metadata": {
  "kernelspec": {
   "display_name": "Python 3 (ipykernel)",
   "language": "python",
   "name": "python3"
  },
  "language_info": {
   "codemirror_mode": {
    "name": "ipython",
    "version": 3
   },
   "file_extension": ".py",
   "mimetype": "text/x-python",
   "name": "python",
   "nbconvert_exporter": "python",
   "pygments_lexer": "ipython3",
   "version": "3.9.12"
  }
 },
 "nbformat": 4,
 "nbformat_minor": 5
}
